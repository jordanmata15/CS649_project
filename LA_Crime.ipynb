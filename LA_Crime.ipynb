{
 "cells": [
  {
   "cell_type": "code",
   "execution_count": null,
   "id": "1d0fcce6-74c3-49d8-8e12-d5453dcbf921",
   "metadata": {},
   "outputs": [],
   "source": [
    "# Authors of this project:\n",
    "# @Jordan Mata\n",
    "# @Jawwad Sabir\n",
    "\n",
    "!pip install folium\n",
    "!pip install missingno\n",
    "!pip install wget\n",
    "\n",
    "# Also need these to enable widgets (assumes jupyter is part of PATH (windows))\n",
    "!pip install ipywidgets\n",
    "!pip install jupyter_contrib_nbextensions\n",
    "!jupyter contrib nbextension install\n",
    "\n",
    "import ipywidgets as widgets\n",
    "from ipywidgets import interact, fixed\n",
    "from IPython.display import clear_output\n",
    "import folium\n",
    "from folium import plugins\n",
    "import json\n",
    "import matplotlib.pyplot as plt\n",
    "import missingno as msno\n",
    "import numpy as np\n",
    "import os\n",
    "import pandas as pd\n",
    "import requests\n",
    "import seaborn as sns\n",
    "import warnings\n",
    "import wget\n",
    "\n",
    "import project_util as pu\n",
    "\n",
    "pd.options.display.max_columns = 1000\n",
    "\n",
    "FIGSIZE=np.array([10, 5])"
   ]
  },
  {
   "cell_type": "code",
   "execution_count": 2,
   "id": "81c95979-a483-48c8-a3e4-1625a4db267f",
   "metadata": {},
   "outputs": [],
   "source": [
    "# Flag to decide whether to locally download a copy of each data file (~600MB).\n",
    "# Set to True if you want a local copy. Set to False if you don't need a local copy (useful if you don't plan to rerun the notebook).\n",
    "LOCAL_DOWNLOAD = False"
   ]
  },
  {
   "cell_type": "code",
   "execution_count": 3,
   "id": "2d26c118-9577-446c-aa00-4972a81ef702",
   "metadata": {},
   "outputs": [],
   "source": [
    "data_path = '.'\n",
    "\n",
    "# local filenames\n",
    "data1_name = 'Crime_Data_from_2010_to_2019.csv'\n",
    "data2_name = 'Crime_Data_from_2020_to_Present.csv'\n",
    "county_census_name = 'census_county.csv'\n",
    "census2016_name = 'census2016.csv'\n",
    "lapd_name = 'lapd.csv'\n",
    "sheriff_name = 'sheriff.csv'\n",
    "\n",
    "# download locations\n",
    "data1_location = 'https://data.lacity.org/api/views/63jg-8b9z/rows.csv'\n",
    "data2_location = 'https://data.lacity.org/api/views/2nrs-mtv8/rows.csv'\n",
    "county_census_location = 'https://www2.census.gov/programs-surveys/popest/datasets/2010-2019/counties/asrh/cc-est2019-agesex-06.csv'\n",
    "census2016_location = 'https://data.lacounty.gov/resource/ai64-dnh8.csv'\n",
    "lapd_location = 'https://opendata.arcgis.com/api/v3/datasets/1dd3271db7bd44f28285041058ac4612_0/downloads/data?format=csv&spatialRefId=4326'\n",
    "sheriff_location = 'https://opendata.arcgis.com/api/v3/datasets/19d2bcfd18054942bda2c95b47bf1927_146/downloads/data?format=csv&spatialRefId=4326'\n",
    "\n",
    "locations = [data1_location, data2_location, county_census_location, census2016_location, lapd_location, sheriff_location]\n",
    "names = [data1_name, data2_name, county_census_name, census2016_name, lapd_name, sheriff_name]\n",
    "\n",
    "if LOCAL_DOWNLOAD:\n",
    "    for i, name in enumerate(names):\n",
    "        if not os.path.exists( os.path.join(data_path, name) ):\n",
    "            wget.download( locations[i], os.path.join(data_path, name))\n",
    "            locations[i] = os.path.join(data_path, name) # overwrite url as the local path"
   ]
  },
  {
   "cell_type": "code",
   "execution_count": 4,
   "id": "ee5f36ee-0d38-4d27-baec-68c3e0fa1064",
   "metadata": {},
   "outputs": [],
   "source": [
    "data1 = pd.read_csv(data1_location)\n",
    "data2 = pd.read_csv(data2_location)\n",
    "\n",
    "county_census_by_year = pd.read_csv(county_census_location) \n",
    "census_data = pd.read_csv(census2016_location) \n",
    "\n",
    "police_stations = pd.read_csv(lapd_location)\n",
    "sheriff_stations = pd.read_csv(sheriff_location)"
   ]
  },
  {
   "cell_type": "code",
   "execution_count": 5,
   "id": "59cf6e94",
   "metadata": {},
   "outputs": [],
   "source": [
    "# put sheriff and police station coordinates in a single dataframe\n",
    "sheriff_stations = sheriff_stations[sheriff_stations['cat3'] == 'Sheriff Stations']\n",
    "police_stations['cat3'] = 'Police Stations'\n",
    "sheriff_stations = sheriff_stations[['X', 'Y', 'cat3']]\n",
    "law_enforcement_df = police_stations.append(sheriff_stations)"
   ]
  },
  {
   "cell_type": "markdown",
   "id": "960c3962",
   "metadata": {},
   "source": [
    "## Preprocess the crime_data dataframe dates for easy reference later"
   ]
  },
  {
   "cell_type": "code",
   "execution_count": 6,
   "id": "4150668b-9096-47cb-ac51-e495011c1219",
   "metadata": {},
   "outputs": [],
   "source": [
    "# combine 2010-2019 and 2020-present data\n",
    "data1.rename(columns={'AREA ':'AREA'}, inplace=True)\n",
    "crime_data = data1.append(data2)\n",
    "\n",
    "# format the time and dates\n",
    "crime_data['Date Rptd'] = pd.to_datetime(crime_data['Date Rptd'])\n",
    "crime_data['DATE OCC'] = pd.to_datetime(crime_data['DATE OCC'])\n",
    "crime_data['TIME OCC'] = pd.to_datetime(crime_data['TIME OCC'].apply(pu.format_mil_string), format='%H:%M')\n",
    "crime_data['DATE AND TIME OCC'] = crime_data['DATE OCC'].dt.date.astype(str) + ' ' +\\\n",
    "                                  crime_data['TIME OCC'].dt.time.astype(str)\n",
    "crime_data['DATE AND TIME OCC'] = pd.to_datetime(crime_data['DATE AND TIME OCC'])\n",
    "\n",
    "# add day, month, and year data for easy indexing\n",
    "crime_data = pu.split_date(crime_data, 'DATE OCC', 'YR')\n",
    "crime_data = pu.split_date(crime_data, 'DATE OCC', 'MTH')\n",
    "crime_data = pu.split_date(crime_data, 'DATE OCC', 'DAY')\n",
    "crime_data[\"month_year\"] = crime_data['DATE OCC'].dt.strftime('%Y-%b')"
   ]
  },
  {
   "cell_type": "markdown",
   "id": "eb785e13",
   "metadata": {},
   "source": [
    "## Replace descent codes in the crime_data df with the actual values"
   ]
  },
  {
   "cell_type": "code",
   "execution_count": 7,
   "id": "0e50523e",
   "metadata": {},
   "outputs": [],
   "source": [
    "crime_data['Vict Descent'] = crime_data['Vict Descent'].apply(pu.replace_descent_code)"
   ]
  },
  {
   "cell_type": "markdown",
   "id": "91d53272",
   "metadata": {
    "tags": []
   },
   "source": [
    "## Group police districts into groups of 6 based on location"
   ]
  },
  {
   "cell_type": "code",
   "execution_count": 8,
   "id": "5e11b832",
   "metadata": {},
   "outputs": [],
   "source": [
    "crime_data[\"zone\"] = crime_data[\"AREA NAME\"].apply(pu.area_group)"
   ]
  },
  {
   "cell_type": "markdown",
   "id": "123e25c6",
   "metadata": {
    "tags": []
   },
   "source": [
    "## Build a map of crime category to crime codes\n",
    "### (eg. 'ASSAULT': dataframe of crime codes associated with assault)"
   ]
  },
  {
   "cell_type": "code",
   "execution_count": 9,
   "id": "18f38878",
   "metadata": {},
   "outputs": [],
   "source": [
    "# get a dataframe of unique (crime codes, crime description) pairs\n",
    "crime_codes = crime_data[['Crm Cd', 'Crm Cd Desc']].groupby(['Crm Cd', 'Crm Cd Desc'])\\\n",
    "                                                   .first()\\\n",
    "                                                   .reset_index()\n",
    "\n",
    "# populate a dictionary {Crime_description: crime_code_df}\n",
    "crime_dict = {}\n",
    "for key, value in pu.crime_desc_map.items():\n",
    "    crime_dict[key] = pu.create_crime_group_df(crime_codes, value).drop(columns=['index'])"
   ]
  },
  {
   "cell_type": "code",
   "execution_count": 10,
   "id": "45bdbbd1",
   "metadata": {},
   "outputs": [],
   "source": [
    "# for better understanding on what crime_dict holds, try it yourself:\n",
    "#print(crime_dict['ASSAULT'])"
   ]
  },
  {
   "cell_type": "code",
   "execution_count": 11,
   "id": "e4669d7c",
   "metadata": {},
   "outputs": [],
   "source": [
    "# create a single dataframe mapping all the crime codes to categories\n",
    "crime_category_df = crime_dict['ASSAULT'].iloc[0:0, :]\n",
    "crime_category_df['Crime Category'] = ''\n",
    "for key, item in crime_dict.items():\n",
    "    # for each crime, get the codes df and add category to it\n",
    "    crime_dict[key]['Crime Category'] = key\n",
    "    crime_category_df = crime_category_df.append(crime_dict[key])\n",
    "\n",
    "# add category type to the main crime dataframe\n",
    "crime_data = crime_data.merge(crime_category_df[['Crm Cd', 'Crime Category']], \n",
    "                              left_on='Crm Cd',\n",
    "                              right_on='Crm Cd')"
   ]
  },
  {
   "cell_type": "markdown",
   "id": "5644ab42",
   "metadata": {},
   "source": [
    "## Format census data that we will use later"
   ]
  },
  {
   "cell_type": "code",
   "execution_count": 12,
   "id": "42fb156c",
   "metadata": {},
   "outputs": [],
   "source": [
    "census_data['cityname'] = census_data['cityname'].apply(pu.remove_prefix)\n",
    "census_data.set_index('cityname', inplace=True)\n",
    "\n",
    "# get census (pop count) data by age group\n",
    "census_by_age = census_data[['age_0_15', 'age_16_18', 'age_19_20', 'age_21_25', \n",
    "                                'age_26_59', 'age_60_64', 'age_65up']]\n",
    "census_by_age = census_by_age.groupby(level=0).sum()\n",
    "\n",
    "# get total population of different areas\n",
    "pop_by_area = census_by_age.sum(axis=1).sort_values(ascending=False).to_frame()"
   ]
  },
  {
   "cell_type": "markdown",
   "id": "8d6d1466",
   "metadata": {},
   "source": [
    "# Why are there gaps in the data?\n",
    "\n",
    "The data is fairly complete. We do see minor gaps in mocodes, vict sex, vict descent. Mocodes is likely due to the fact that not every crime has an MO. Similarly, some crimes may not have a a single victim or the victim was not able to be identified. It looks like on the graph that if the mocode is missing, so are the victim sex and descents. Checking the data, age is often recorded as '-1', so there may be gaps exactly where the others have gaps.\n",
    "\n",
    "There are also large gaps in weapon used cd, weapon desc, crime code # and cross street. For all but the last, there might not be data for that crime. For instance, burglary is defined by not being by force. Therefore, it makes sense not to be using a weapon. As for cross street, we will not be using this in our analysis, so we won't even worry about it."
   ]
  },
  {
   "cell_type": "code",
   "execution_count": 13,
   "id": "86823bf3-b2d6-4c43-b8b8-2487065ba718",
   "metadata": {},
   "outputs": [],
   "source": [
    "# Doesn't play well with github. Uncomment to see when running interactively.\n",
    "# msno.matrix(crime_data, figsize=2*FIGSIZE)"
   ]
  },
  {
   "cell_type": "code",
   "execution_count": 14,
   "id": "5728606d",
   "metadata": {},
   "outputs": [],
   "source": [
    "latest_date = crime_data['DATE OCC'].max()\n",
    "\n",
    "biannual_count_by_area = crime_data.groupby(['zone', pd.Grouper(key='DATE OCC',\n",
    "                                                                freq='3M', \n",
    "                                                                closed='left')])\\\n",
    "                                   .size()\\\n",
    "                                   .reset_index()\n",
    "\n",
    "# drop the latest date range if incomplete\n",
    "biannual_count_by_area = pu.trim_df(biannual_count_by_area,\n",
    "                                    'DATE OCC',\n",
    "                                    latest_date)\n",
    "biannual_count_by_area_indexed = biannual_count_by_area.set_index(['zone', 'DATE OCC'])[0]"
   ]
  },
  {
   "cell_type": "code",
   "execution_count": 15,
   "id": "b7a6ad93-b192-4a8d-abda-96f0747c7fb4",
   "metadata": {},
   "outputs": [
    {
     "data": {
      "image/png": "[encoded data removed]",
      "text/plain": [
       "<Figure size 720x360 with 1 Axes>"
      ]
     },
     "metadata": {
      "needs_background": "light"
     },
     "output_type": "display_data"
    }
   ],
   "source": [
    "# plot the crime counts corresponding to each of the 21 police departments\n",
    "pu.plot_area_range(biannual_count_by_area_indexed)"
   ]
  },
  {
   "cell_type": "markdown",
   "id": "ad289abf",
   "metadata": {},
   "source": [
    "We group the 21 police stations by geographical location and plot the counts. We can see that crime overall is fairly steady. There are dips, mostly evident in the Central LA area, but that area also has the most crime by far."
   ]
  },
  {
   "cell_type": "markdown",
   "id": "e69d9f95",
   "metadata": {},
   "source": [
    "# How are crimes distributed accross regions in LA county? Annually and by crime type.\n",
    "Based on the map below (4 cells down, keep scrolling), it's evident that most of the crime occurs in 3 regions San Fernando Valley (top left), Downtown LA (middle), and Long Beach (bottom).\n",
    "Crime in Downtown LA is consistently more dense with crime, regardless of the crime or year. It's possible that the population is much higher  here and this is why we see much more crime. We will show a distribution below of the most populated areas by region."
   ]
  },
  {
   "cell_type": "code",
   "execution_count": 16,
   "id": "5fe259cd",
   "metadata": {},
   "outputs": [],
   "source": [
    "# define some lists as options for our widgets to choose from\n",
    "category_list = list(pu.crime_desc_map.keys())\n",
    "category_list.sort()\n",
    "years_list = np.unique(crime_data['DATE OCC'].dt.year.values)\n",
    "\n",
    "# dropdown object to let us select type of crime\n",
    "category_widget = widgets.Dropdown(\n",
    "    style={'description_width': 'initial'},\n",
    "    options=category_list,\n",
    "    value=category_list[0],\n",
    "    description='Crime category:')\n",
    "\n",
    "# dropdown object to let us select date\n",
    "year_widget = widgets.Dropdown(\n",
    "    style={'description_width': 'initial'},\n",
    "    options=years_list,\n",
    "    value=years_list[-1],\n",
    "    description='Year:')\n",
    "\n",
    "# dropdown object to let us select type of crime\n",
    "sheriff_widget = widgets.Dropdown(\n",
    "    style={'description_width': 'initial'},\n",
    "    options=[True,False],\n",
    "    value=False,\n",
    "    description='Show sheriff departments?')\n",
    "\n",
    "# dropdown object to let us select date\n",
    "police_widget = widgets.Dropdown(\n",
    "    style={'description_width': 'initial'},\n",
    "    options=[True, False],\n",
    "    description='Show police departments?')"
   ]
  },
  {
   "cell_type": "markdown",
   "id": "9d54b17e",
   "metadata": {
    "tags": []
   },
   "source": [
    "## Plotting crime by category in Los Angeles\n",
    "Please use the dropdowns below to select a crime category and year to plot.<br>\n",
    "Police stations are in <font color='blue'>blue</font> with a white outline.<br>\n",
    "Crime locations (rounded to the nearest block) are in <font color='red'>red</font>.<br>\n",
    "\n",
    "### Note:\n",
    "Due to resource restrictions, a random sample is used. The size can be adjusted at the top of the cell above.<br>\n",
    "Please wait a few seconds between each new crime category."
   ]
  },
  {
   "cell_type": "code",
   "execution_count": 17,
   "id": "965772bd",
   "metadata": {},
   "outputs": [
    {
     "data": {
      "application/vnd.jupyter.widget-view+json": {
       "model_id": "6591822a03e149cb9475ac2f96bd052c",
       "version_major": 2,
       "version_minor": 0
      },
      "text/plain": [
       "interactive(children=(Dropdown(description='Crime category:', options=('ANIMAL_CRIME', 'ASSAULT', 'BURGLARY', …"
      ]
     },
     "metadata": {},
     "output_type": "display_data"
    }
   ],
   "source": [
    "# don't plot all the data, limit to N_SAMPLES to avoid resource restriction issues\n",
    "N_SAMPLES = 10000\n",
    "\n",
    "# show our widgets and plot\n",
    "i = widgets.interactive(pu.plot_func,\n",
    "                        category=category_widget, \n",
    "                        year=year_widget, \n",
    "                        police=police_widget, \n",
    "                        sheriff=sheriff_widget,\n",
    "                        # non widgets need to be in fixed()\n",
    "                        crime_data=fixed(crime_data),\n",
    "                        crime_dict=fixed(crime_dict),\n",
    "                        law_stations=fixed(law_enforcement_df),\n",
    "                        n_samples=fixed(N_SAMPLES))\n",
    "display(i)"
   ]
  },
  {
   "cell_type": "code",
   "execution_count": 18,
   "id": "7c7deffe",
   "metadata": {},
   "outputs": [
    {
     "data": {
      "text/html": [
       "<style type=\"text/css\">\n",
       "</style>\n",
       "<table id=\"T_f71bc_\">\n",
       "  <thead>\n",
       "    <tr>\n",
       "      <th class=\"blank level0\" >&nbsp;</th>\n",
       "      <th class=\"col_heading level0 col0\" >std</th>\n",
       "      <th class=\"col_heading level0 col1\" >mean</th>\n",
       "      <th class=\"col_heading level0 col2\" >median</th>\n",
       "      <th class=\"col_heading level0 col3\" >max</th>\n",
       "      <th class=\"col_heading level0 col4\" >min</th>\n",
       "      <th class=\"col_heading level0 col5\" >sum</th>\n",
       "    </tr>\n",
       "  </thead>\n",
       "  <tbody>\n",
       "    <tr>\n",
       "      <th id=\"T_f71bc_level0_row0\" class=\"row_heading level0 row0\" >0</th>\n",
       "      <td id=\"T_f71bc_row0_col0\" class=\"data row0 col0\" >25,092</td>\n",
       "      <td id=\"T_f71bc_row0_col1\" class=\"data row0 col1\" >29,000</td>\n",
       "      <td id=\"T_f71bc_row0_col2\" class=\"data row0 col2\" >22,564</td>\n",
       "      <td id=\"T_f71bc_row0_col3\" class=\"data row0 col3\" >151,195</td>\n",
       "      <td id=\"T_f71bc_row0_col4\" class=\"data row0 col4\" >546</td>\n",
       "      <td id=\"T_f71bc_row0_col5\" class=\"data row0 col5\" >3,711,967</td>\n",
       "    </tr>\n",
       "  </tbody>\n",
       "</table>\n"
      ],
      "text/plain": [
       "<pandas.io.formats.style.Styler at 0x1ee3cef5070>"
      ]
     },
     "metadata": {},
     "output_type": "display_data"
    },
    {
     "data": {
      "text/html": [
       "<style type=\"text/css\">\n",
       "</style>\n",
       "<table id=\"T_58889_\">\n",
       "  <thead>\n",
       "    <tr>\n",
       "      <th class=\"blank level0\" >&nbsp;</th>\n",
       "      <th class=\"col_heading level0 col0\" >Population</th>\n",
       "      <th class=\"col_heading level0 col1\" >Pct of total pop</th>\n",
       "    </tr>\n",
       "    <tr>\n",
       "      <th class=\"index_name level0\" >cityname</th>\n",
       "      <th class=\"blank col0\" >&nbsp;</th>\n",
       "      <th class=\"blank col1\" >&nbsp;</th>\n",
       "    </tr>\n",
       "  </thead>\n",
       "  <tbody>\n",
       "    <tr>\n",
       "      <th id=\"T_58889_level0_row0\" class=\"row_heading level0 row0\" >North Hollywood</th>\n",
       "      <td id=\"T_58889_row0_col0\" class=\"data row0 col0\" >151,195</td>\n",
       "      <td id=\"T_58889_row0_col1\" class=\"data row0 col1\" >4.073</td>\n",
       "    </tr>\n",
       "    <tr>\n",
       "      <th id=\"T_58889_level0_row1\" class=\"row_heading level0 row1\" >Van Nuys</th>\n",
       "      <td id=\"T_58889_row1_col0\" class=\"data row1 col0\" >93,149</td>\n",
       "      <td id=\"T_58889_row1_col1\" class=\"data row1 col1\" >2.509</td>\n",
       "    </tr>\n",
       "    <tr>\n",
       "      <th id=\"T_58889_level0_row2\" class=\"row_heading level0 row2\" >Boyle Heights</th>\n",
       "      <td id=\"T_58889_row2_col0\" class=\"data row2 col0\" >88,520</td>\n",
       "      <td id=\"T_58889_row2_col1\" class=\"data row2 col1\" >2.385</td>\n",
       "    </tr>\n",
       "    <tr>\n",
       "      <th id=\"T_58889_level0_row3\" class=\"row_heading level0 row3\" >Sherman Oaks</th>\n",
       "      <td id=\"T_58889_row3_col0\" class=\"data row3 col0\" >84,818</td>\n",
       "      <td id=\"T_58889_row3_col1\" class=\"data row3 col1\" >2.285</td>\n",
       "    </tr>\n",
       "    <tr>\n",
       "      <th id=\"T_58889_level0_row4\" class=\"row_heading level0 row4\" >Sylmar</th>\n",
       "      <td id=\"T_58889_row4_col0\" class=\"data row4 col0\" >83,778</td>\n",
       "      <td id=\"T_58889_row4_col1\" class=\"data row4 col1\" >2.257</td>\n",
       "    </tr>\n",
       "    <tr>\n",
       "      <th id=\"T_58889_level0_row5\" class=\"row_heading level0 row5\" >Pacoima</th>\n",
       "      <td id=\"T_58889_row5_col0\" class=\"data row5 col0\" >81,334</td>\n",
       "      <td id=\"T_58889_row5_col1\" class=\"data row5 col1\" >2.191</td>\n",
       "    </tr>\n",
       "    <tr>\n",
       "      <th id=\"T_58889_level0_row6\" class=\"row_heading level0 row6\" >Melrose</th>\n",
       "      <td id=\"T_58889_row6_col0\" class=\"data row6 col0\" >78,238</td>\n",
       "      <td id=\"T_58889_row6_col1\" class=\"data row6 col1\" >2.108</td>\n",
       "    </tr>\n",
       "    <tr>\n",
       "      <th id=\"T_58889_level0_row7\" class=\"row_heading level0 row7\" >Panorama City</th>\n",
       "      <td id=\"T_58889_row7_col0\" class=\"data row7 col0\" >76,903</td>\n",
       "      <td id=\"T_58889_row7_col1\" class=\"data row7 col1\" >2.072</td>\n",
       "    </tr>\n",
       "    <tr>\n",
       "      <th id=\"T_58889_level0_row8\" class=\"row_heading level0 row8\" >Reseda</th>\n",
       "      <td id=\"T_58889_row8_col0\" class=\"data row8 col0\" >75,953</td>\n",
       "      <td id=\"T_58889_row8_col1\" class=\"data row8 col1\" >2.046</td>\n",
       "    </tr>\n",
       "    <tr>\n",
       "      <th id=\"T_58889_level0_row9\" class=\"row_heading level0 row9\" >Northridge</th>\n",
       "      <td id=\"T_58889_row9_col0\" class=\"data row9 col0\" >67,426</td>\n",
       "      <td id=\"T_58889_row9_col1\" class=\"data row9 col1\" >1.816</td>\n",
       "    </tr>\n",
       "  </tbody>\n",
       "</table>\n"
      ],
      "text/plain": [
       "<pandas.io.formats.style.Styler at 0x1ee3cef5820>"
      ]
     },
     "metadata": {},
     "output_type": "display_data"
    }
   ],
   "source": [
    "# get general population stats based on area\n",
    "stats = pop_by_area.agg(['std', 'mean', 'median', 'max', 'min', 'sum']).transpose()\n",
    "stats = stats.round(0).astype(int)\n",
    "\n",
    "pop_by_area['Pct of total pop'] = ((pop_by_area/stats['sum'])*100).round(3)\n",
    "pop_by_area.rename(columns={0:'Population'}, inplace=True)\n",
    "\n",
    "display(stats.style.format('{:,}'))\n",
    "display(pop_by_area.head(10).style.format('{:,}'))"
   ]
  },
  {
   "cell_type": "markdown",
   "id": "041a3a2b",
   "metadata": {},
   "source": [
    "For those not familiar with the San Fernando Valley, 8 of the top cities do show up in the top 10 most populated cities. It would be logical to think that the majority of crime would be in the San Fernando Valley. However, as the map above shows, this isn't usually the case as Downtown seems more crime filled. Unfortunately, this is not an apples to apples comparison.<br>\n",
    "\n",
    "Downtown LA could be made up of smaller, more dense cities. Thereby, it could have a larger population as a sum of many more smaller cities, while having a smaller population per city. If we look at the percentage of the total LA County population in each, they account for very little each. Therefore, it would be difficult to say whether crime would be more prevalent based on population data.\n",
    "\n",
    "However, we can conclude that Downtown LA does appear to have more crime across all crime types and years.\n",
    "\n",
    "### A few caveats:\n",
    "1. The census data is from 2016 as it's the most recent census data we could find that also includes population by area. Therefore, it is possible the population has disproportionately increased.<br><br>\n",
    "2. The city census data does not exactly correspond to the LAPD reporting districts. This is because census data follows tracts, which don't exactly correspond to the the same way districts/zip codes are laid out. However, for broad analysis, this should be fine.<br><br>"
   ]
  },
  {
   "cell_type": "markdown",
   "id": "ca59bd65",
   "metadata": {},
   "source": [
    "# Why are there areas of the map with no crime? (North El Monte, Citrus)\n",
    "It may be surpising to see that there are areas in LA county where there is no crime reported. However, this is due to the fact that not all parts of LA county are under the jurisdiction of the LAPD (the owner of the dataset we are using). In fact: \n",
    "\n",
    "\"LASD provides general law enforcement services to 42 contract cities\"\n",
    "(https://www.lasd.org/about_us.html)\n",
    "\n",
    "By default, the graph above hides sheriff stations. But toggling them, shows the missing areas where there are sheriff stations. Note, some areas are under the LASD, but do not have a law enforcement station. While it's not safe to say that the mountains and wildlife areas do not have any crime, they are not under the LASD or LAPD."
   ]
  },
  {
   "cell_type": "code",
   "execution_count": 19,
   "id": "9280b5e1",
   "metadata": {},
   "outputs": [],
   "source": [
    "# define some lists as options for our widgets to choose from\n",
    "category_list = list(pu.crime_desc_map.keys())\n",
    "category_list.sort()\n",
    "grouping_list = ['Monthly', 'Tri-Annually', 'Bi-Annually', 'Yearly']\n",
    "\n",
    "category_w = widgets.SelectMultiple(\n",
    "    style={'description_width': 'initial'},\n",
    "    options=category_list,\n",
    "    value=[],\n",
    "    rows=len(category_list),\n",
    "    description='Crime types',\n",
    "    disabled=False\n",
    "    )\n",
    "\n",
    "grouping_w = widgets.Dropdown(\n",
    "    style={'description_width': 'initial'},\n",
    "    options=grouping_list,\n",
    "    value=grouping_list[0],\n",
    "    description='Frequency:')\n",
    "\n",
    "plot_type_w = widgets.Dropdown(\n",
    "    style={'description_width': 'initial'},\n",
    "    options=['Line', 'Hist'],\n",
    "    value='Line',\n",
    "    description='Plot type:')\n",
    "\n",
    "# make sure changes to the widget are shown in the cell that has display(output1)\n",
    "output1 = widgets.Output()"
   ]
  },
  {
   "cell_type": "markdown",
   "id": "1f1e6504",
   "metadata": {},
   "source": [
    "## Plot crime by count and category\n",
    "Please select crime types to plot.<br>\n",
    "Multiple types are possible. Hold CTRL and click as many options desired.<br>\n",
    "Plot is recalculated after each new item selected. Please be patient for larger datasets or if you select many types.<br>\n",
    "To avoid scaling issues, it's recommended to group crime types based on other crime types with similar counts.\n",
    "\n",
    "## Suggested groupings (counts based on 3 month grouped data):\n",
    "HIGH (>3K): Assault, Burglary, Theft, Vehicle<br>\n",
    "MEDIUM (1K-3K): Vandalism, Violence, Weapon<br>\n",
    "LOW (100-1K): Fraud, Minor_underage, Other, Robbery, Sexual_Crime, Stalking, Threats<br>\n",
    "VERY_LOW (<100): Animal_Crime, Disruption, Homicide, Kidnapping<br>"
   ]
  },
  {
   "cell_type": "markdown",
   "id": "4c29c8b5",
   "metadata": {},
   "source": [
    "# What kinds of crimes are increasing/decreasing?"
   ]
  },
  {
   "cell_type": "code",
   "execution_count": 20,
   "id": "89e366f4",
   "metadata": {},
   "outputs": [
    {
     "data": {
      "application/vnd.jupyter.widget-view+json": {
       "model_id": "043a2b06c89b40688c2a52b283d71000",
       "version_major": 2,
       "version_minor": 0
      },
      "text/plain": [
       "interactive(children=(SelectMultiple(description='Crime types', options=('ANIMAL_CRIME', 'ASSAULT', 'BURGLARY'…"
      ]
     },
     "metadata": {},
     "output_type": "display_data"
    },
    {
     "data": {
      "application/vnd.jupyter.widget-view+json": {
       "model_id": "f3ec53335e3c46589731ed25cabc6255",
       "version_major": 2,
       "version_minor": 0
      },
      "text/plain": [
       "Output()"
      ]
     },
     "metadata": {},
     "output_type": "display_data"
    }
   ],
   "source": [
    "# display our widget\n",
    "j = widgets.interactive(pu.call_category_plot,\n",
    "                        categories=category_w, \n",
    "                        grouping=grouping_w,\n",
    "                        plot_type=plot_type_w,\n",
    "                        # non widgets need to be in fixed()\n",
    "                        crime_data=fixed(crime_data),\n",
    "                        crime_dict=fixed(crime_dict),\n",
    "                        output1=fixed(output1),\n",
    "                        latest_date=fixed(latest_date))\n",
    "display(j)\n",
    "display(output1) # for making sure changes to widget selection get printed here"
   ]
  },
  {
   "cell_type": "markdown",
   "id": "13f038a9",
   "metadata": {},
   "source": [
    "Using the graph above, we can see trends of particular crime categories over the last 10-11 years. Perhaps most interesting is the the start of the Coronavirus pandemic (March 2020). If we take a look at these categories in the triannual and biannual lenses, we can see trends. Monthly frequency is too granular and annual is too broad.<br><br>\n",
    "\n",
    "Here we can see the following crime trends:<br>\n",
    "\n",
    "Decreasing:\n",
    "+ Burglary\n",
    "+ Assault\n",
    "+ Fraud\n",
    "+ Minor_underage\n",
    "+ Robbery\n",
    "+ Sexual_crime\n",
    "+ Theft\n",
    "+ Violent\n",
    "\n",
    "\n",
    "Increasing:\n",
    "+ Weapon (related)\n",
    "+ Homicide\n",
    "<br><br>\n",
    "\n",
    "It makes sense that overall crime would be dropping, since people are out less, and that creates less opportunity for most crimes. In particular, burglary is down. Again, as people are home more often, there is less opportunity for burglars to strike.<br><br>\n",
    "\n",
    "Perhaps most surprising is that weapon related and homicide crimes are up. We can only speculate as to the cause, but perhaps it would have to do with the fact that criminals who commit more serious crimes are less likely to follow coronavirus restrictions. "
   ]
  },
  {
   "cell_type": "code",
   "execution_count": 33,
   "id": "0d3dad79",
   "metadata": {},
   "outputs": [],
   "source": [
    "# define some lists as options for our widgets to choose from\n",
    "category_list = list(pu.crime_desc_map.keys())\n",
    "category_list.sort()\n",
    "cat_list_all = category_list.copy()\n",
    "cat_list_all.insert(0, 'ALL Crime') # add an 'ALL Crime' item to category list\n",
    "years = np.unique(crime_data['DATE OCC YR'].values)\n",
    "descents = crime_data['Vict Descent'].unique().tolist()\n",
    "\n",
    "crime_cat_w = widgets.Dropdown(\n",
    "    style={'description_width': 'initial'},\n",
    "    options=cat_list_all,\n",
    "    value=cat_list_all[0],\n",
    "    description='Crime types'\n",
    "    )\n",
    "\n",
    "year_w = widgets.Dropdown(\n",
    "    style={'description_width': 'initial'},\n",
    "    options=years,\n",
    "    value=years[-1],\n",
    "    description='Year:')\n",
    "\n",
    "sex_descent_w = widgets.Dropdown(\n",
    "    style={'description_width': 'initial'},\n",
    "    options=['Vict Descent', 'Vict Sex'],\n",
    "    description='Victim Descent or Sex?')\n",
    "\n",
    "# make sure changes to the widget are shown in the cell that has display(output2)\n",
    "output2 = widgets.Output()"
   ]
  },
  {
   "cell_type": "markdown",
   "id": "f5366dd8",
   "metadata": {},
   "source": [
    "# Who are the victims of crime in LA County (most recently)?"
   ]
  },
  {
   "cell_type": "markdown",
   "id": "e2ad5ad7",
   "metadata": {},
   "source": [
    "### By victim descent:\n",
    "We can see use the violin plot below to see how crime how old victims are within their ethnic groups for 'ALL Crime' in 2021 ONLY (change the value below if you wish to see more).\n",
    "It seems that victim ages are usually pretty uniform acrosss all ethnic groups between 20-60 years old. A few outliers are Guamanian, Samoan, and Hawaiian groups.<br>\n",
    "\n",
    "Please note that we split the countplots into 2 sections. One for larger groups and one for smaller groups, to make it easier to see. Taking a look at the countplots below, we can see how many crimes had victims of each group. This tells us which groups had more crimes committed against them. For example, the 'Hispanic/Latino/Mexican' group is about twice as likely to be victims of a crime as the 'Black' group.<br>\n",
    "\n",
    "It's important to include both of these plot types because the violin plot alone might make it seem as though each group is equally likely to be a victim, when in fact, it's highly skewed towards some groups. This is highly influenced by population (*see below*)."
   ]
  },
  {
   "cell_type": "markdown",
   "id": "e8977151",
   "metadata": {},
   "source": [
    "### By victim sex:\n",
    "We can do the same analysis for sex by changing the last dropdown to 'Vict Sex'. Overall, the age distribution seems to be the same. However, it does seem that males are more likely to be victims under 5 years old. It does seem that males are also more likely to be victims of crimes (at least in 2021 so far). It's possible female victims make up a significant portion of the unknown sex category. However, it's also possible that the remaining category is nonbinary. We can only speculate as to why without more data.\n",
    "\n",
    "+ M - Male\n",
    "+ F - Female\n",
    "+ X - Unknown\n",
    "+ H - Undefined by the dataset provider (accounts for 0.004% of the data)"
   ]
  },
  {
   "cell_type": "markdown",
   "id": "dbb9ee02",
   "metadata": {},
   "source": [
    "## Interactive plot for plotting individual crime types, year, and either descent/sex."
   ]
  },
  {
   "cell_type": "code",
   "execution_count": 35,
   "id": "9484bcf2",
   "metadata": {},
   "outputs": [
    {
     "data": {
      "application/vnd.jupyter.widget-view+json": {
       "model_id": "f780ab6cf2e5474cad1549fe12c3bf4b",
       "version_major": 2,
       "version_minor": 0
      },
      "text/plain": [
       "interactive(children=(Dropdown(description='Crime types', options=('ALL Crime', 'ANIMAL_CRIME', 'ASSAULT', 'BU…"
      ]
     },
     "metadata": {},
     "output_type": "display_data"
    },
    {
     "data": {
      "application/vnd.jupyter.widget-view+json": {
       "model_id": "f02b37dfe64e441db6539ed89851a5ae",
       "version_major": 2,
       "version_minor": 0
      },
      "text/plain": [
       "Output(outputs=({'name': 'stdout', 'text': 'Crunching data. Please be patient.\\n', 'output_type': 'stream'}, {…"
      ]
     },
     "metadata": {},
     "output_type": "display_data"
    }
   ],
   "source": [
    "l = widgets.interactive(pu.call_violin_plot,\n",
    "                        category=crime_cat_w,\n",
    "                        year=year_w,\n",
    "                        sex_descent=sex_descent_w,\n",
    "                        # non widgets need to be in fixed()\n",
    "                        crime_data=fixed(crime_data),\n",
    "                        crime_dict=fixed(crime_dict),\n",
    "                        output2=fixed(output2))\n",
    "display(l)\n",
    "display(output2)"
   ]
  },
  {
   "cell_type": "markdown",
   "id": "e47ac59b",
   "metadata": {},
   "source": [
    "It's difficult to determine exactly where we draw boundaries based on census data. For example, census data has a question for race and another for ethnicity. Someone could choose to respond as Hispanic/latino and identify as white or not white:\n",
    "\n",
    "'White alone, not Hispanic or Latino are individuals who responded \"No, not Spanish/Hispanic/Latino\" and who reported \"White\" as their only entry in the race question.'<br>\n",
    "(https://www.census.gov/quickfacts/fact/note/US/RHI825219)\n",
    "\n",
    "Based on 2019 census data, we can see the following:\n",
    "+ 70.7% &nbsp; White, only\n",
    "+ 48.6% &nbsp; Hispanic or Latinos\n",
    "+ 26.1% &nbsp; White alone, not Hispanic or Latino \n",
    "+ 15.4% &nbsp; Asian alone\n",
    "+ 9.0% &nbsp; &nbsp; Black or African American alone\n",
    "+ 3.1% &nbsp; &nbsp; Two or more races\n",
    "+ 1.4% &nbsp; &nbsp; American Indian or Alaska native alone\n",
    "+ 0.4% &nbsp; &nbsp; Native American or Other Pacific Islander along<br>\n",
    "\n",
    "(https://www.census.gov/quickfacts/fact/table/losangelescountycalifornia/PST045219#qf-headnote-b)\n",
    "\n",
    "It would make sense that latinos would be victims or crimes more often as they make up a significant chunk of the population. It is suprising that people of 'White' descent would be lower than latinos. The number of crimes they are victims in comes close (or even exceeds) that of latinos in a few crimes (Fraud, Theft, Vandalism), depending on the year."
   ]
  },
  {
   "cell_type": "code",
   "execution_count": 23,
   "id": "d2354b65",
   "metadata": {},
   "outputs": [
    {
     "data": {
      "application/vnd.jupyter.widget-view+json": {
       "model_id": "b9d388ea54884c17a3a82e1dec4230b7",
       "version_major": 2,
       "version_minor": 0
      },
      "text/plain": [
       "interactive(children=(Dropdown(description='Category:', options=('ALL CRIME', 'ANIMAL_CRIME', 'ASSAULT', 'BURG…"
      ]
     },
     "metadata": {},
     "output_type": "display_data"
    },
    {
     "data": {
      "application/vnd.jupyter.widget-view+json": {
       "model_id": "41a98f048bb1450a843b4469ab9f0148",
       "version_major": 2,
       "version_minor": 0
      },
      "text/plain": [
       "Output()"
      ]
     },
     "metadata": {},
     "output_type": "display_data"
    }
   ],
   "source": [
    "# define some lists as options for our widgets to choose from\n",
    "category_list = list(pu.crime_desc_map.keys())\n",
    "category_list.sort()\n",
    "category_list.insert(0, 'ALL CRIME')\n",
    "\n",
    "cat3_w = widgets.Dropdown(style={'description_width': 'initial'},\n",
    "                            options=category_list,\n",
    "                            value=category_list[0],\n",
    "                            description='Category:')\n",
    "\n",
    "output4 = widgets.Output()\n",
    "\n",
    "n = widgets.interactive(pu.time_plotter,\n",
    "                        cat=cat3_w,\n",
    "                        # non widgets need to be in fixed()\n",
    "                        df=fixed(crime_data),\n",
    "                        output=fixed(output4))\n",
    "display(n)\n",
    "display(output4)"
   ]
  },
  {
   "cell_type": "markdown",
   "id": "3281741a",
   "metadata": {},
   "source": [
    "# What is the likelihood of a crime based on the day of the week? By month?"
   ]
  },
  {
   "cell_type": "code",
   "execution_count": 24,
   "id": "3f17f6b0",
   "metadata": {},
   "outputs": [
    {
     "data": {
      "image/png": "[encoded data removed]",
      "text/plain": [
       "<Figure size 720x360 with 1 Axes>"
      ]
     },
     "metadata": {
      "needs_background": "light"
     },
     "output_type": "display_data"
    }
   ],
   "source": [
    "# change this to see different crime type\n",
    "CRIME_TYPE = 'ALL CRIME' # or 'ASSAULT', 'BURGLARY'\n",
    "\n",
    "day_occurred = [d.isoweekday() for d in crime_data[\"DATE OCC\"]]\n",
    "crime_data[\"Day Occurred\"] = np.array(day_occurred)\n",
    "pu.plot_weekly_crime(crime_data, CRIME_TYPE)"
   ]
  },
  {
   "cell_type": "code",
   "execution_count": 25,
   "id": "402930af",
   "metadata": {},
   "outputs": [
    {
     "data": {
      "image/png": "[encoded data removed]",
      "text/plain": [
       "<Figure size 720x432 with 1 Axes>"
      ]
     },
     "metadata": {
      "needs_background": "light"
     },
     "output_type": "display_data"
    }
   ],
   "source": [
    "import importlib\n",
    "importlib.reload(pu)\n",
    "\n",
    "# change this to see different crime type\n",
    "CRIME_TYPE = 'ALL CRIME' # or 'ASSAULT', 'BURGLARY'\n",
    "\n",
    "pu.plot_monthly_crime(crime_data,'ASSAULT')"
   ]
  },
  {
   "cell_type": "markdown",
   "id": "54789479",
   "metadata": {},
   "source": [
    "# Is there any trends in crimes?"
   ]
  },
  {
   "cell_type": "code",
   "execution_count": 26,
   "id": "b350815c",
   "metadata": {},
   "outputs": [],
   "source": [
    "monthly_crimes = pd.pivot_table(data=crime_data,\n",
    "                                values=\"DR_NO\",\n",
    "                                index = \"month_year\",\n",
    "                                columns = \"Crime Category\",\n",
    "                                aggfunc='count').fillna(0)\n",
    "monthly_crimes.columns.name = None\n",
    "monthly_crimes[\"All Categories\"] = monthly_crimes.apply(sum, axis=1)\n",
    "monthly_crimes.reset_index(inplace=True)"
   ]
  },
  {
   "cell_type": "code",
   "execution_count": 27,
   "id": "0af08d26",
   "metadata": {},
   "outputs": [],
   "source": [
    "# define some lists as options for our widgets to choose from\n",
    "category_list = monthly_crimes.columns.tolist()\n",
    "category_list.remove('All Categories')\n",
    "category_list.remove('month_year')\n",
    "category_list.sort()\n",
    "category_list.insert(0, 'All Categories')\n",
    "category_list2 = category_list.copy()\n",
    "category_list2.insert(0, '')\n",
    "\n",
    "cat1_w = widgets.Dropdown(\n",
    "    style={'description_width': 'initial'},\n",
    "    options=category_list,\n",
    "    value=category_list[0],\n",
    "    description='Category 1:')\n",
    "\n",
    "cat2_w = widgets.Dropdown(\n",
    "    style={'description_width': 'initial'},\n",
    "    options=category_list2,\n",
    "    value='',\n",
    "    description='Category 2:')\n",
    "\n",
    "output3 = widgets.Output()"
   ]
  },
  {
   "cell_type": "code",
   "execution_count": 28,
   "id": "3ac2b843",
   "metadata": {},
   "outputs": [
    {
     "data": {
      "application/vnd.jupyter.widget-view+json": {
       "model_id": "4c5ce9ddaf7348b3a8569a4e7fab354e",
       "version_major": 2,
       "version_minor": 0
      },
      "text/plain": [
       "interactive(children=(Dropdown(description='Category 1:', options=('All Categories', 'ANIMAL_CRIME', 'ASSAULT'…"
      ]
     },
     "metadata": {},
     "output_type": "display_data"
    },
    {
     "data": {
      "application/vnd.jupyter.widget-view+json": {
       "model_id": "ae2fab113aad4628b7f4941092431c30",
       "version_major": 2,
       "version_minor": 0
      },
      "text/plain": [
       "Output()"
      ]
     },
     "metadata": {},
     "output_type": "display_data"
    }
   ],
   "source": [
    "m = widgets.interactive(pu.regplot_plotter,\n",
    "                        category1=cat1_w,\n",
    "                        category2=cat2_w,\n",
    "                        # non widgets need to be in fixed()\n",
    "                        df=fixed(monthly_crimes),\n",
    "                        output3=fixed(output3))\n",
    "display(m)\n",
    "display(output3)"
   ]
  },
  {
   "cell_type": "markdown",
   "id": "e285f5f6",
   "metadata": {},
   "source": [
    "We can see some obvious trends. For example: robbery, theft, and burglary all have similar slopes. This makes sense as there may be some overlap between them. It's obvious that others would have no correlation. For example, violent crimes and fraud have differing slopes. However, as the addage goes, correlation does not equal causation."
   ]
  },
  {
   "cell_type": "markdown",
   "id": "d3946308",
   "metadata": {},
   "source": [
    "# What kinds of weapons are the most likely to be used in crimes?"
   ]
  },
  {
   "cell_type": "code",
   "execution_count": 29,
   "id": "6749021d",
   "metadata": {},
   "outputs": [
    {
     "data": {
      "image/png": "[encoded data removed]",
      "text/plain": [
       "<Figure size 504x504 with 1 Axes>"
      ]
     },
     "metadata": {},
     "output_type": "display_data"
    }
   ],
   "source": [
    "crime_data[\"Weapon Desc 2\"] = crime_data[\"Weapon Desc\"].apply(pu.weapon_desc)\n",
    "pu.plot_pie(crime_data, 'HOMICIDE', \"Weapon Desc 2\")"
   ]
  },
  {
   "cell_type": "markdown",
   "id": "9509de66",
   "metadata": {},
   "source": [
    "When crimes do have a weapon, it seems the most used weapon is a gun. In fact, close to 3/4 crimes that involve a weapon are with guns. Blades are much less common, accounting for about 10%. Other weapons (including fists and body parts) are the remaining ~13%"
   ]
  },
  {
   "cell_type": "markdown",
   "id": "ca22dea8",
   "metadata": {},
   "source": [
    "# Machine learning"
   ]
  },
  {
   "cell_type": "code",
   "execution_count": 30,
   "id": "e9e37ebf",
   "metadata": {},
   "outputs": [],
   "source": [
    "mon_occurred = [d.month for d in crime_data[\"DATE OCC\"]]\n",
    "year_occurred = [d.year for d in crime_data[\"DATE OCC\"]]\n",
    "\n",
    "# add some columns to use in our ML model\n",
    "crime_data[\"Month Occurred\"] = np.array(mon_occurred)\n",
    "crime_data[\"Year Occurred\"] = np.array(year_occurred)\n",
    "crime_data['hour'] = crime_data['TIME OCC'].dt.hour\n",
    "crime_data[\"vict_age_group\"] = crime_data[\"Vict Age\"].apply(pu.age_group)   \n",
    "crime_data[\"zone\"] = crime_data[\"AREA NAME\"].apply(pu.area_group)\n",
    "crime_data[\"premis_cat\"] = crime_data[\"Premis Desc\"].apply(pu.premis_category)\n",
    "\n",
    "# get a subset of the columns for our model\n",
    "model_data = crime_data[[\"zone\",\n",
    "                         \"vict_age_group\",\n",
    "                         \"Vict Sex\",\n",
    "                         \"Vict Descent\",\n",
    "                         \"Day Occurred\",\n",
    "                         \"Month Occurred\",\n",
    "                         \"hour\",\n",
    "                         \"Crime Category\",\n",
    "                         \"premis_cat\"]]\n",
    "\n",
    "with warnings.catch_warnings():\n",
    "    warnings.filterwarnings(\"ignore\")\n",
    "    # format our data and append them as new columns\n",
    "    model_data[\"sex\"] = pd.factorize(model_data[\"Vict Sex\"])[0]\n",
    "    model_data[\"Descent\"] = pd.factorize(model_data[\"Vict Descent\"])[0]\n",
    "    model_data[\"crime\"] = pd.factorize(model_data[\"Crime Category\"])[0]\n",
    "    model_data[\"age\"] = pd.factorize(model_data[\"vict_age_group\"])[0]\n",
    "    \n",
    "# drop unneeded columns\n",
    "model_data = model_data[[\"zone\",\n",
    "                         \"age\",\n",
    "                         \"sex\",\n",
    "                         \"Descent\",\n",
    "                         \"Day Occurred\",\n",
    "                         #\"Month Occurred\",\n",
    "                         \"hour\",\n",
    "                         \"crime\",\n",
    "                         \"premis_cat\"]]\n",
    "model_data = model_data[:25000] # get a subset of our data"
   ]
  },
  {
   "cell_type": "code",
   "execution_count": 31,
   "id": "5f09d26a",
   "metadata": {},
   "outputs": [
    {
     "name": "stdout",
     "output_type": "stream",
     "text": [
      "Accuracy:  67.42 %\n"
     ]
    },
    {
     "data": {
      "text/html": [
       "<div>\n",
       "<style scoped>\n",
       "    .dataframe tbody tr th:only-of-type {\n",
       "        vertical-align: middle;\n",
       "    }\n",
       "\n",
       "    .dataframe tbody tr th {\n",
       "        vertical-align: top;\n",
       "    }\n",
       "\n",
       "    .dataframe thead th {\n",
       "        text-align: right;\n",
       "    }\n",
       "</style>\n",
       "<table border=\"1\" class=\"dataframe\">\n",
       "  <thead>\n",
       "    <tr style=\"text-align: right;\">\n",
       "      <th></th>\n",
       "      <th>Class Name</th>\n",
       "      <th>precision</th>\n",
       "      <th>recall</th>\n",
       "      <th>f1-score</th>\n",
       "      <th>support</th>\n",
       "    </tr>\n",
       "  </thead>\n",
       "  <tbody>\n",
       "    <tr>\n",
       "      <th>0</th>\n",
       "      <td>-1</td>\n",
       "      <td>0.00</td>\n",
       "      <td>0.00</td>\n",
       "      <td>0.00</td>\n",
       "      <td>2</td>\n",
       "    </tr>\n",
       "    <tr>\n",
       "      <th>1</th>\n",
       "      <td>0</td>\n",
       "      <td>0.63</td>\n",
       "      <td>0.43</td>\n",
       "      <td>0.51</td>\n",
       "      <td>1966</td>\n",
       "    </tr>\n",
       "    <tr>\n",
       "      <th>2</th>\n",
       "      <td>1</td>\n",
       "      <td>0.69</td>\n",
       "      <td>0.84</td>\n",
       "      <td>0.76</td>\n",
       "      <td>2961</td>\n",
       "    </tr>\n",
       "    <tr>\n",
       "      <th>3</th>\n",
       "      <td>2</td>\n",
       "      <td>0.52</td>\n",
       "      <td>0.39</td>\n",
       "      <td>0.45</td>\n",
       "      <td>71</td>\n",
       "    </tr>\n",
       "  </tbody>\n",
       "</table>\n",
       "</div>"
      ],
      "text/plain": [
       "  Class Name precision recall f1-score support\n",
       "0         -1      0.00   0.00     0.00       2\n",
       "1          0      0.63   0.43     0.51    1966\n",
       "2          1      0.69   0.84     0.76    2961\n",
       "3          2      0.52   0.39     0.45      71"
      ]
     },
     "metadata": {},
     "output_type": "display_data"
    },
    {
     "data": {
      "image/png": "[encoded data removed]",
      "text/plain": [
       "<Figure size 950.4x475.2 with 1 Axes>"
      ]
     },
     "metadata": {
      "needs_background": "light"
     },
     "output_type": "display_data"
    }
   ],
   "source": [
    "label='sex'\n",
    "# assign our variables for training\n",
    "y = model_data[[label]] \n",
    "X = model_data.loc[:,~(model_data.columns.isin([label]))]\n",
    "\n",
    "with warnings.catch_warnings():\n",
    "    warnings.filterwarnings(\"ignore\")\n",
    "    _,accuracy_score,report = pu.knn_model(#neighbours=6,\n",
    "                                            plot_k_values=True, \n",
    "                                            plot_confusion_matrix=True,\n",
    "                                            optimize=True,\n",
    "                                            neighbours=False,\n",
    "                                            label=label,\n",
    "                                            X=X,\n",
    "                                            y=y)\n",
    "print('Accuracy: ', accuracy_score, '%')\n",
    "display(report)"
   ]
  },
  {
   "cell_type": "markdown",
   "id": "d4889740",
   "metadata": {},
   "source": [
    "# CONCLUSION AND FUTURE WORK\n",
    "\n",
    "\n",
    "1- We tried and Build different models for classification and clustering the data based on the following features:\n",
    "Victim age, sex, descent, premises(house/street/market etc), time of day, day of week, location, and finally the month.\n",
    "\n",
    "2- The goal of this ML model was to see if we can predict the potentially dangerous area based on these features like time, day, age, premises, sex etc\n",
    "\n",
    "3- Since the data is Huge i-e 2.7 million rows, that means every kind of crimes occured in every part of LA county in every situation. That means there is a very subtle indicator which makes it harder for a ML model to classify.\n",
    "\n",
    "4- We were able to find meaningful results that can be improved with some hyper-parameter tuning that is resuose intensive as the data is too big to fine tune with limited resourses. Some other features can be added like the population density per location and median income from City website, That alongwith neural network models will certainly improve the overall accuracy.\n"
   ]
  }
 ],
 "metadata": {
  "kernelspec": {
   "display_name": "Python 3 (ipykernel)",
   "language": "python",
   "name": "python3"
  },
  "language_info": {
   "codemirror_mode": {
    "name": "ipython",
    "version": 3
   },
   "file_extension": ".py",
   "mimetype": "text/x-python",
   "name": "python",
   "nbconvert_exporter": "python",
   "pygments_lexer": "ipython3",
   "version": "3.8.10"
  }
 },
 "nbformat": 4,
 "nbformat_minor": 5
}
